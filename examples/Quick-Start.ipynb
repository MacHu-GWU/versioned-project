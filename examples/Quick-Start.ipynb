{
 "cells": [
  {
   "cell_type": "markdown",
   "metadata": {},
   "source": [
    "# Versioned Artifacts System Quick Start\n",
    "\n",
    "In this notebook, we will learn the best practice to deploy versioned artifacts and use alias to perform blue / green or canary deployment.\n",
    "\n",
    "**Concenpts**\n",
    "\n",
    "- **Artifact**: An artifact is an item produced or used during the software development process. In the context of the ``versioned`` Python library, the content of an artifact is always a binary object. For deployment purposes, if you need to produce multiple files, you can create a compressed archive file (e.g., ``*.tar.gz``) that includes all necessary files.\n",
    "- **Version**: A version refers to a specific revision of an artifact's content. It is crucial that artifact versions remain **immutable** to ensure deterministic deployment. Versions are represented by auto-incremented numbers (e.g., 1, 2, 3, ...). In the ``versioned`` Python library, a hard limit of 999,999 revisions is imposed. It's important to note that ``LATEST`` is a special version that remains immutable. Each time an artifact is updated, it automatically updates the ``LATEST`` version.\n",
    "- **Alias**: An alias is a pointer associated with a specific artifact version. In addition to the primary version, you can also map an alias to a secondary version. This capability allows for splitting invocation requests between two versions, providing flexibility in managing deployments.\n",
    "\n",
    "**Deployment Workflow**\n",
    "\n",
    "- In the development phase, you can continuously update the artifact using the ``put_artifact`` API, which only affects the ``LATEST`` version.\n",
    "- When you are ready to release, utilize the ``publish_artifact_version`` API to create an immutable snapshot of your ``LATEST`` version.\n",
    "- To serve production traffic, it is recommended to use the ``put_alias`` API to create a ``LIVE`` alias that points to the LATEST version.\n",
    "- In case you encounter any issues with the new release, you always have the option to reassociate the ``LIVE`` alias with a historical artifact version. This approach is commonly known as a ``Blue/Green deployment``. In this method, the ``LATEST`` version represents the ``Green`` environment (new release), while the historical version serves as the ``Blue`` environment (a stable working environment that can be rolled back to if needed).\n",
    "- For canary deployments, you can map the ``LIVE`` alias to a secondary version and initially route only 10% of the traffic to the secondary version. Gradually, you can increase the weight of the secondary version, allowing it to serve a larger share of the traffic. Eventually, the secondary version will become the primary version and handle 100% of the traffic."
   ]
  },
  {
   "cell_type": "markdown",
   "metadata": {},
   "source": [
    "## Import the Library"
   ]
  },
  {
   "cell_type": "code",
   "execution_count": 1,
   "metadata": {
    "pycharm": {
     "is_executing": true
    }
   },
   "outputs": [],
   "source": [
    "from versioned.api import Repository\n",
    "from boto_session_manager import BotoSesManager\n",
    "from rich import print as rprint\n",
    "\n",
    "bsm = BotoSesManager(profile_name=\"awshsh_app_dev_us_east_1\")\n",
    "repo = Repository(\n",
    "    aws_region=bsm.aws_region,\n",
    "    s3_bucket=f\"{bsm.aws_account_id}-{bsm.aws_region}-artifacts\",\n",
    "    s3_prefix=\"versioned-artifacts\",\n",
    "    dynamodb_table_name=\"versioned-artifacts\",\n",
    ")\n",
    "\n",
    "repo.bootstrap(bsm=bsm)\n",
    "\n",
    "name = \"deploy\"\n",
    "\n",
    "# uncommend this line to purge all artifacts version and their database records\n",
    "repo.purge_artifact(bsm=bsm, name=name)"
   ]
  },
  {
   "cell_type": "markdown",
   "metadata": {},
   "source": [
    "## Create Your First Artifact\n",
    "\n",
    "An artifact has to have a unique name."
   ]
  },
  {
   "cell_type": "code",
   "execution_count": 2,
   "metadata": {
    "collapsed": false,
    "jupyter": {
     "outputs_hidden": false
    }
   },
   "outputs": [
    {
     "data": {
      "text/html": [
       "<pre style=\"white-space:pre;overflow-x:auto;line-height:normal;font-family:Menlo,'DejaVu Sans Mono',consolas,'Courier New',monospace\"><span style=\"color: #800080; text-decoration-color: #800080; font-weight: bold\">Artifact</span><span style=\"font-weight: bold\">(</span>\n",
       "    <span style=\"color: #808000; text-decoration-color: #808000\">name</span>=<span style=\"color: #008000; text-decoration-color: #008000\">'deploy'</span>,\n",
       "    <span style=\"color: #808000; text-decoration-color: #808000\">version</span>=<span style=\"color: #008000; text-decoration-color: #008000\">'LATEST'</span>,\n",
       "    <span style=\"color: #808000; text-decoration-color: #808000\">update_at</span>=<span style=\"color: #800080; text-decoration-color: #800080; font-weight: bold\">datetime</span><span style=\"color: #800080; text-decoration-color: #800080; font-weight: bold\">.datetime</span><span style=\"font-weight: bold\">(</span><span style=\"color: #008080; text-decoration-color: #008080; font-weight: bold\">2023</span>, <span style=\"color: #008080; text-decoration-color: #008080; font-weight: bold\">7</span>, <span style=\"color: #008080; text-decoration-color: #008080; font-weight: bold\">6</span>, <span style=\"color: #008080; text-decoration-color: #008080; font-weight: bold\">16</span>, <span style=\"color: #008080; text-decoration-color: #008080; font-weight: bold\">50</span>, <span style=\"color: #008080; text-decoration-color: #008080; font-weight: bold\">36</span>, <span style=\"color: #008080; text-decoration-color: #008080; font-weight: bold\">88002</span>, <span style=\"color: #808000; text-decoration-color: #808000\">tzinfo</span>=<span style=\"color: #800080; text-decoration-color: #800080\">datetime</span>.timezone.utc<span style=\"font-weight: bold\">)</span>,\n",
       "    <span style=\"color: #808000; text-decoration-color: #808000\">s3uri</span>=<span style=\"color: #008000; text-decoration-color: #008000\">'s3://807388292768-us-east-1-artifacts/versioned-artifacts/deploy/LATEST'</span>,\n",
       "    <span style=\"color: #808000; text-decoration-color: #808000\">sha256</span>=<span style=\"color: #008000; text-decoration-color: #008000\">'3bfc269594ef649228e9a74bab00f042efc91d5acc6fbee31a382e80d42388fe'</span>\n",
       "<span style=\"font-weight: bold\">)</span>\n",
       "</pre>\n"
      ],
      "text/plain": [
       "\u001b[1;35mArtifact\u001b[0m\u001b[1m(\u001b[0m\n",
       "    \u001b[33mname\u001b[0m=\u001b[32m'deploy'\u001b[0m,\n",
       "    \u001b[33mversion\u001b[0m=\u001b[32m'LATEST'\u001b[0m,\n",
       "    \u001b[33mupdate_at\u001b[0m=\u001b[1;35mdatetime\u001b[0m\u001b[1;35m.datetime\u001b[0m\u001b[1m(\u001b[0m\u001b[1;36m2023\u001b[0m, \u001b[1;36m7\u001b[0m, \u001b[1;36m6\u001b[0m, \u001b[1;36m16\u001b[0m, \u001b[1;36m50\u001b[0m, \u001b[1;36m36\u001b[0m, \u001b[1;36m88002\u001b[0m, \u001b[33mtzinfo\u001b[0m=\u001b[35mdatetime\u001b[0m.timezone.utc\u001b[1m)\u001b[0m,\n",
       "    \u001b[33ms3uri\u001b[0m=\u001b[32m's3://807388292768-us-east-1-artifacts/versioned-artifacts/deploy/LATEST'\u001b[0m,\n",
       "    \u001b[33msha256\u001b[0m=\u001b[32m'3bfc269594ef649228e9a74bab00f042efc91d5acc6fbee31a382e80d42388fe'\u001b[0m\n",
       "\u001b[1m)\u001b[0m\n"
      ]
     },
     "metadata": {},
     "output_type": "display_data"
    },
    {
     "name": "stdout",
     "output_type": "stream",
     "text": [
      "preview on S3: https://console.aws.amazon.com/s3/object/807388292768-us-east-1-artifacts?prefix=versioned-artifacts/deploy/LATEST\n",
      "preview artifact content: b'v1'\n"
     ]
    }
   ],
   "source": [
    "artifact = repo.put_artifact(bsm=bsm, name=name, content=b\"v1\")\n",
    "rprint(artifact)\n",
    "print(f\"preview on S3: {artifact.s3path.console_url}\")\n",
    "print(f\"preview artifact content: {artifact.get_content(bsm=bsm)}\")"
   ]
  },
  {
   "cell_type": "code",
   "execution_count": 3,
   "metadata": {},
   "outputs": [
    {
     "data": {
      "text/html": [
       "<pre style=\"white-space:pre;overflow-x:auto;line-height:normal;font-family:Menlo,'DejaVu Sans Mono',consolas,'Courier New',monospace\"><span style=\"color: #800080; text-decoration-color: #800080; font-weight: bold\">Artifact</span><span style=\"font-weight: bold\">(</span>\n",
       "    <span style=\"color: #808000; text-decoration-color: #808000\">name</span>=<span style=\"color: #008000; text-decoration-color: #008000\">'deploy'</span>,\n",
       "    <span style=\"color: #808000; text-decoration-color: #808000\">version</span>=<span style=\"color: #008000; text-decoration-color: #008000\">'LATEST'</span>,\n",
       "    <span style=\"color: #808000; text-decoration-color: #808000\">update_at</span>=<span style=\"color: #800080; text-decoration-color: #800080; font-weight: bold\">datetime</span><span style=\"color: #800080; text-decoration-color: #800080; font-weight: bold\">.datetime</span><span style=\"font-weight: bold\">(</span><span style=\"color: #008080; text-decoration-color: #008080; font-weight: bold\">2023</span>, <span style=\"color: #008080; text-decoration-color: #008080; font-weight: bold\">7</span>, <span style=\"color: #008080; text-decoration-color: #008080; font-weight: bold\">6</span>, <span style=\"color: #008080; text-decoration-color: #008080; font-weight: bold\">16</span>, <span style=\"color: #008080; text-decoration-color: #008080; font-weight: bold\">50</span>, <span style=\"color: #008080; text-decoration-color: #008080; font-weight: bold\">36</span>, <span style=\"color: #008080; text-decoration-color: #008080; font-weight: bold\">88002</span>, <span style=\"color: #808000; text-decoration-color: #808000\">tzinfo</span>=<span style=\"color: #800080; text-decoration-color: #800080\">datetime</span>.timezone.utc<span style=\"font-weight: bold\">)</span>,\n",
       "    <span style=\"color: #808000; text-decoration-color: #808000\">s3uri</span>=<span style=\"color: #008000; text-decoration-color: #008000\">'s3://807388292768-us-east-1-artifacts/versioned-artifacts/deploy/LATEST'</span>,\n",
       "    <span style=\"color: #808000; text-decoration-color: #808000\">sha256</span>=<span style=\"color: #008000; text-decoration-color: #008000\">'3bfc269594ef649228e9a74bab00f042efc91d5acc6fbee31a382e80d42388fe'</span>\n",
       "<span style=\"font-weight: bold\">)</span>\n",
       "</pre>\n"
      ],
      "text/plain": [
       "\u001b[1;35mArtifact\u001b[0m\u001b[1m(\u001b[0m\n",
       "    \u001b[33mname\u001b[0m=\u001b[32m'deploy'\u001b[0m,\n",
       "    \u001b[33mversion\u001b[0m=\u001b[32m'LATEST'\u001b[0m,\n",
       "    \u001b[33mupdate_at\u001b[0m=\u001b[1;35mdatetime\u001b[0m\u001b[1;35m.datetime\u001b[0m\u001b[1m(\u001b[0m\u001b[1;36m2023\u001b[0m, \u001b[1;36m7\u001b[0m, \u001b[1;36m6\u001b[0m, \u001b[1;36m16\u001b[0m, \u001b[1;36m50\u001b[0m, \u001b[1;36m36\u001b[0m, \u001b[1;36m88002\u001b[0m, \u001b[33mtzinfo\u001b[0m=\u001b[35mdatetime\u001b[0m.timezone.utc\u001b[1m)\u001b[0m,\n",
       "    \u001b[33ms3uri\u001b[0m=\u001b[32m's3://807388292768-us-east-1-artifacts/versioned-artifacts/deploy/LATEST'\u001b[0m,\n",
       "    \u001b[33msha256\u001b[0m=\u001b[32m'3bfc269594ef649228e9a74bab00f042efc91d5acc6fbee31a382e80d42388fe'\u001b[0m\n",
       "\u001b[1m)\u001b[0m\n"
      ]
     },
     "metadata": {},
     "output_type": "display_data"
    }
   ],
   "source": [
    "artifact = repo.get_artifact_version(bsm=bsm, name=name)\n",
    "rprint(artifact)"
   ]
  },
  {
   "cell_type": "markdown",
   "metadata": {},
   "source": [
    "## Publish a New Artifact Version from the ``LATEST`` Version"
   ]
  },
  {
   "cell_type": "code",
   "execution_count": 4,
   "metadata": {},
   "outputs": [
    {
     "data": {
      "text/html": [
       "<pre style=\"white-space:pre;overflow-x:auto;line-height:normal;font-family:Menlo,'DejaVu Sans Mono',consolas,'Courier New',monospace\"><span style=\"color: #800080; text-decoration-color: #800080; font-weight: bold\">Artifact</span><span style=\"font-weight: bold\">(</span>\n",
       "    <span style=\"color: #808000; text-decoration-color: #808000\">name</span>=<span style=\"color: #008000; text-decoration-color: #008000\">'deploy'</span>,\n",
       "    <span style=\"color: #808000; text-decoration-color: #808000\">version</span>=<span style=\"color: #008000; text-decoration-color: #008000\">'1'</span>,\n",
       "    <span style=\"color: #808000; text-decoration-color: #808000\">update_at</span>=<span style=\"color: #800080; text-decoration-color: #800080; font-weight: bold\">datetime</span><span style=\"color: #800080; text-decoration-color: #800080; font-weight: bold\">.datetime</span><span style=\"font-weight: bold\">(</span><span style=\"color: #008080; text-decoration-color: #008080; font-weight: bold\">2023</span>, <span style=\"color: #008080; text-decoration-color: #008080; font-weight: bold\">7</span>, <span style=\"color: #008080; text-decoration-color: #008080; font-weight: bold\">6</span>, <span style=\"color: #008080; text-decoration-color: #008080; font-weight: bold\">16</span>, <span style=\"color: #008080; text-decoration-color: #008080; font-weight: bold\">50</span>, <span style=\"color: #008080; text-decoration-color: #008080; font-weight: bold\">37</span>, <span style=\"color: #008080; text-decoration-color: #008080; font-weight: bold\">576841</span>, <span style=\"color: #808000; text-decoration-color: #808000\">tzinfo</span>=<span style=\"color: #800080; text-decoration-color: #800080\">datetime</span>.timezone.utc<span style=\"font-weight: bold\">)</span>,\n",
       "    <span style=\"color: #808000; text-decoration-color: #808000\">s3uri</span>=<span style=\"color: #008000; text-decoration-color: #008000\">'s3://807388292768-us-east-1-artifacts/versioned-artifacts/deploy/000001'</span>,\n",
       "    <span style=\"color: #808000; text-decoration-color: #808000\">sha256</span>=<span style=\"color: #008000; text-decoration-color: #008000\">'3bfc269594ef649228e9a74bab00f042efc91d5acc6fbee31a382e80d42388fe'</span>\n",
       "<span style=\"font-weight: bold\">)</span>\n",
       "</pre>\n"
      ],
      "text/plain": [
       "\u001b[1;35mArtifact\u001b[0m\u001b[1m(\u001b[0m\n",
       "    \u001b[33mname\u001b[0m=\u001b[32m'deploy'\u001b[0m,\n",
       "    \u001b[33mversion\u001b[0m=\u001b[32m'1'\u001b[0m,\n",
       "    \u001b[33mupdate_at\u001b[0m=\u001b[1;35mdatetime\u001b[0m\u001b[1;35m.datetime\u001b[0m\u001b[1m(\u001b[0m\u001b[1;36m2023\u001b[0m, \u001b[1;36m7\u001b[0m, \u001b[1;36m6\u001b[0m, \u001b[1;36m16\u001b[0m, \u001b[1;36m50\u001b[0m, \u001b[1;36m37\u001b[0m, \u001b[1;36m576841\u001b[0m, \u001b[33mtzinfo\u001b[0m=\u001b[35mdatetime\u001b[0m.timezone.utc\u001b[1m)\u001b[0m,\n",
       "    \u001b[33ms3uri\u001b[0m=\u001b[32m's3://807388292768-us-east-1-artifacts/versioned-artifacts/deploy/000001'\u001b[0m,\n",
       "    \u001b[33msha256\u001b[0m=\u001b[32m'3bfc269594ef649228e9a74bab00f042efc91d5acc6fbee31a382e80d42388fe'\u001b[0m\n",
       "\u001b[1m)\u001b[0m\n"
      ]
     },
     "metadata": {},
     "output_type": "display_data"
    },
    {
     "name": "stdout",
     "output_type": "stream",
     "text": [
      "preview on S3: https://console.aws.amazon.com/s3/object/807388292768-us-east-1-artifacts?prefix=versioned-artifacts/deploy/000001\n",
      "preview artifact content: b'v1'\n"
     ]
    }
   ],
   "source": [
    "artifact = repo.publish_artifact_version(bsm=bsm, name=name)\n",
    "rprint(artifact)\n",
    "print(f\"preview on S3: {artifact.s3path.console_url}\")\n",
    "print(f\"preview artifact content: {artifact.get_content(bsm=bsm)}\")"
   ]
  },
  {
   "cell_type": "code",
   "execution_count": 5,
   "metadata": {},
   "outputs": [
    {
     "data": {
      "text/html": [
       "<pre style=\"white-space:pre;overflow-x:auto;line-height:normal;font-family:Menlo,'DejaVu Sans Mono',consolas,'Courier New',monospace\"><span style=\"color: #800080; text-decoration-color: #800080; font-weight: bold\">Artifact</span><span style=\"font-weight: bold\">(</span>\n",
       "    <span style=\"color: #808000; text-decoration-color: #808000\">name</span>=<span style=\"color: #008000; text-decoration-color: #008000\">'deploy'</span>,\n",
       "    <span style=\"color: #808000; text-decoration-color: #808000\">version</span>=<span style=\"color: #008000; text-decoration-color: #008000\">'1'</span>,\n",
       "    <span style=\"color: #808000; text-decoration-color: #808000\">update_at</span>=<span style=\"color: #800080; text-decoration-color: #800080; font-weight: bold\">datetime</span><span style=\"color: #800080; text-decoration-color: #800080; font-weight: bold\">.datetime</span><span style=\"font-weight: bold\">(</span><span style=\"color: #008080; text-decoration-color: #008080; font-weight: bold\">2023</span>, <span style=\"color: #008080; text-decoration-color: #008080; font-weight: bold\">7</span>, <span style=\"color: #008080; text-decoration-color: #008080; font-weight: bold\">6</span>, <span style=\"color: #008080; text-decoration-color: #008080; font-weight: bold\">16</span>, <span style=\"color: #008080; text-decoration-color: #008080; font-weight: bold\">50</span>, <span style=\"color: #008080; text-decoration-color: #008080; font-weight: bold\">37</span>, <span style=\"color: #008080; text-decoration-color: #008080; font-weight: bold\">576841</span>, <span style=\"color: #808000; text-decoration-color: #808000\">tzinfo</span>=<span style=\"color: #800080; text-decoration-color: #800080\">datetime</span>.timezone.utc<span style=\"font-weight: bold\">)</span>,\n",
       "    <span style=\"color: #808000; text-decoration-color: #808000\">s3uri</span>=<span style=\"color: #008000; text-decoration-color: #008000\">'s3://807388292768-us-east-1-artifacts/versioned-artifacts/deploy/000001'</span>,\n",
       "    <span style=\"color: #808000; text-decoration-color: #808000\">sha256</span>=<span style=\"color: #008000; text-decoration-color: #008000\">'3bfc269594ef649228e9a74bab00f042efc91d5acc6fbee31a382e80d42388fe'</span>\n",
       "<span style=\"font-weight: bold\">)</span>\n",
       "</pre>\n"
      ],
      "text/plain": [
       "\u001b[1;35mArtifact\u001b[0m\u001b[1m(\u001b[0m\n",
       "    \u001b[33mname\u001b[0m=\u001b[32m'deploy'\u001b[0m,\n",
       "    \u001b[33mversion\u001b[0m=\u001b[32m'1'\u001b[0m,\n",
       "    \u001b[33mupdate_at\u001b[0m=\u001b[1;35mdatetime\u001b[0m\u001b[1;35m.datetime\u001b[0m\u001b[1m(\u001b[0m\u001b[1;36m2023\u001b[0m, \u001b[1;36m7\u001b[0m, \u001b[1;36m6\u001b[0m, \u001b[1;36m16\u001b[0m, \u001b[1;36m50\u001b[0m, \u001b[1;36m37\u001b[0m, \u001b[1;36m576841\u001b[0m, \u001b[33mtzinfo\u001b[0m=\u001b[35mdatetime\u001b[0m.timezone.utc\u001b[1m)\u001b[0m,\n",
       "    \u001b[33ms3uri\u001b[0m=\u001b[32m's3://807388292768-us-east-1-artifacts/versioned-artifacts/deploy/000001'\u001b[0m,\n",
       "    \u001b[33msha256\u001b[0m=\u001b[32m'3bfc269594ef649228e9a74bab00f042efc91d5acc6fbee31a382e80d42388fe'\u001b[0m\n",
       "\u001b[1m)\u001b[0m\n"
      ]
     },
     "metadata": {},
     "output_type": "display_data"
    }
   ],
   "source": [
    "artifact = repo.get_artifact_version(bsm=bsm, name=name, version=1)\n",
    "rprint(artifact)"
   ]
  },
  {
   "cell_type": "code",
   "execution_count": 6,
   "metadata": {},
   "outputs": [
    {
     "data": {
      "text/html": [
       "<pre style=\"white-space:pre;overflow-x:auto;line-height:normal;font-family:Menlo,'DejaVu Sans Mono',consolas,'Courier New',monospace\"><span style=\"font-weight: bold\">[</span>\n",
       "    <span style=\"color: #800080; text-decoration-color: #800080; font-weight: bold\">Artifact</span><span style=\"font-weight: bold\">(</span>\n",
       "        <span style=\"color: #808000; text-decoration-color: #808000\">name</span>=<span style=\"color: #008000; text-decoration-color: #008000\">'deploy'</span>,\n",
       "        <span style=\"color: #808000; text-decoration-color: #808000\">version</span>=<span style=\"color: #008000; text-decoration-color: #008000\">'LATEST'</span>,\n",
       "        <span style=\"color: #808000; text-decoration-color: #808000\">update_at</span>=<span style=\"color: #800080; text-decoration-color: #800080; font-weight: bold\">datetime</span><span style=\"color: #800080; text-decoration-color: #800080; font-weight: bold\">.datetime</span><span style=\"font-weight: bold\">(</span><span style=\"color: #008080; text-decoration-color: #008080; font-weight: bold\">2023</span>, <span style=\"color: #008080; text-decoration-color: #008080; font-weight: bold\">7</span>, <span style=\"color: #008080; text-decoration-color: #008080; font-weight: bold\">6</span>, <span style=\"color: #008080; text-decoration-color: #008080; font-weight: bold\">16</span>, <span style=\"color: #008080; text-decoration-color: #008080; font-weight: bold\">50</span>, <span style=\"color: #008080; text-decoration-color: #008080; font-weight: bold\">36</span>, <span style=\"color: #008080; text-decoration-color: #008080; font-weight: bold\">88002</span>, <span style=\"color: #808000; text-decoration-color: #808000\">tzinfo</span>=<span style=\"color: #800080; text-decoration-color: #800080\">datetime</span>.timezone.utc<span style=\"font-weight: bold\">)</span>,\n",
       "        <span style=\"color: #808000; text-decoration-color: #808000\">s3uri</span>=<span style=\"color: #008000; text-decoration-color: #008000\">'s3://807388292768-us-east-1-artifacts/versioned-artifacts/deploy/LATEST'</span>,\n",
       "        <span style=\"color: #808000; text-decoration-color: #808000\">sha256</span>=<span style=\"color: #008000; text-decoration-color: #008000\">'3bfc269594ef649228e9a74bab00f042efc91d5acc6fbee31a382e80d42388fe'</span>\n",
       "    <span style=\"font-weight: bold\">)</span>,\n",
       "    <span style=\"color: #800080; text-decoration-color: #800080; font-weight: bold\">Artifact</span><span style=\"font-weight: bold\">(</span>\n",
       "        <span style=\"color: #808000; text-decoration-color: #808000\">name</span>=<span style=\"color: #008000; text-decoration-color: #008000\">'deploy'</span>,\n",
       "        <span style=\"color: #808000; text-decoration-color: #808000\">version</span>=<span style=\"color: #008000; text-decoration-color: #008000\">'1'</span>,\n",
       "        <span style=\"color: #808000; text-decoration-color: #808000\">update_at</span>=<span style=\"color: #800080; text-decoration-color: #800080; font-weight: bold\">datetime</span><span style=\"color: #800080; text-decoration-color: #800080; font-weight: bold\">.datetime</span><span style=\"font-weight: bold\">(</span><span style=\"color: #008080; text-decoration-color: #008080; font-weight: bold\">2023</span>, <span style=\"color: #008080; text-decoration-color: #008080; font-weight: bold\">7</span>, <span style=\"color: #008080; text-decoration-color: #008080; font-weight: bold\">6</span>, <span style=\"color: #008080; text-decoration-color: #008080; font-weight: bold\">16</span>, <span style=\"color: #008080; text-decoration-color: #008080; font-weight: bold\">50</span>, <span style=\"color: #008080; text-decoration-color: #008080; font-weight: bold\">37</span>, <span style=\"color: #008080; text-decoration-color: #008080; font-weight: bold\">576841</span>, <span style=\"color: #808000; text-decoration-color: #808000\">tzinfo</span>=<span style=\"color: #800080; text-decoration-color: #800080\">datetime</span>.timezone.utc<span style=\"font-weight: bold\">)</span>,\n",
       "        <span style=\"color: #808000; text-decoration-color: #808000\">s3uri</span>=<span style=\"color: #008000; text-decoration-color: #008000\">'s3://807388292768-us-east-1-artifacts/versioned-artifacts/deploy/000001'</span>,\n",
       "        <span style=\"color: #808000; text-decoration-color: #808000\">sha256</span>=<span style=\"color: #008000; text-decoration-color: #008000\">'3bfc269594ef649228e9a74bab00f042efc91d5acc6fbee31a382e80d42388fe'</span>\n",
       "    <span style=\"font-weight: bold\">)</span>\n",
       "<span style=\"font-weight: bold\">]</span>\n",
       "</pre>\n"
      ],
      "text/plain": [
       "\u001b[1m[\u001b[0m\n",
       "    \u001b[1;35mArtifact\u001b[0m\u001b[1m(\u001b[0m\n",
       "        \u001b[33mname\u001b[0m=\u001b[32m'deploy'\u001b[0m,\n",
       "        \u001b[33mversion\u001b[0m=\u001b[32m'LATEST'\u001b[0m,\n",
       "        \u001b[33mupdate_at\u001b[0m=\u001b[1;35mdatetime\u001b[0m\u001b[1;35m.datetime\u001b[0m\u001b[1m(\u001b[0m\u001b[1;36m2023\u001b[0m, \u001b[1;36m7\u001b[0m, \u001b[1;36m6\u001b[0m, \u001b[1;36m16\u001b[0m, \u001b[1;36m50\u001b[0m, \u001b[1;36m36\u001b[0m, \u001b[1;36m88002\u001b[0m, \u001b[33mtzinfo\u001b[0m=\u001b[35mdatetime\u001b[0m.timezone.utc\u001b[1m)\u001b[0m,\n",
       "        \u001b[33ms3uri\u001b[0m=\u001b[32m's3://807388292768-us-east-1-artifacts/versioned-artifacts/deploy/LATEST'\u001b[0m,\n",
       "        \u001b[33msha256\u001b[0m=\u001b[32m'3bfc269594ef649228e9a74bab00f042efc91d5acc6fbee31a382e80d42388fe'\u001b[0m\n",
       "    \u001b[1m)\u001b[0m,\n",
       "    \u001b[1;35mArtifact\u001b[0m\u001b[1m(\u001b[0m\n",
       "        \u001b[33mname\u001b[0m=\u001b[32m'deploy'\u001b[0m,\n",
       "        \u001b[33mversion\u001b[0m=\u001b[32m'1'\u001b[0m,\n",
       "        \u001b[33mupdate_at\u001b[0m=\u001b[1;35mdatetime\u001b[0m\u001b[1;35m.datetime\u001b[0m\u001b[1m(\u001b[0m\u001b[1;36m2023\u001b[0m, \u001b[1;36m7\u001b[0m, \u001b[1;36m6\u001b[0m, \u001b[1;36m16\u001b[0m, \u001b[1;36m50\u001b[0m, \u001b[1;36m37\u001b[0m, \u001b[1;36m576841\u001b[0m, \u001b[33mtzinfo\u001b[0m=\u001b[35mdatetime\u001b[0m.timezone.utc\u001b[1m)\u001b[0m,\n",
       "        \u001b[33ms3uri\u001b[0m=\u001b[32m's3://807388292768-us-east-1-artifacts/versioned-artifacts/deploy/000001'\u001b[0m,\n",
       "        \u001b[33msha256\u001b[0m=\u001b[32m'3bfc269594ef649228e9a74bab00f042efc91d5acc6fbee31a382e80d42388fe'\u001b[0m\n",
       "    \u001b[1m)\u001b[0m\n",
       "\u001b[1m]\u001b[0m\n"
      ]
     },
     "metadata": {},
     "output_type": "display_data"
    }
   ],
   "source": [
    "artifact_list = repo.list_artifact_versions(bsm=bsm, name=name)\n",
    "rprint(artifact_list)"
   ]
  },
  {
   "cell_type": "markdown",
   "metadata": {},
   "source": [
    "## Update the ``LATEST`` Version and Publish a New Version\n",
    "\n",
    "Each time an artifact is updated, it automatically updates the ``LATEST`` version."
   ]
  },
  {
   "cell_type": "code",
   "execution_count": 7,
   "metadata": {},
   "outputs": [
    {
     "data": {
      "text/html": [
       "<pre style=\"white-space:pre;overflow-x:auto;line-height:normal;font-family:Menlo,'DejaVu Sans Mono',consolas,'Courier New',monospace\"><span style=\"color: #800080; text-decoration-color: #800080; font-weight: bold\">Artifact</span><span style=\"font-weight: bold\">(</span>\n",
       "    <span style=\"color: #808000; text-decoration-color: #808000\">name</span>=<span style=\"color: #008000; text-decoration-color: #008000\">'deploy'</span>,\n",
       "    <span style=\"color: #808000; text-decoration-color: #808000\">version</span>=<span style=\"color: #008000; text-decoration-color: #008000\">'LATEST'</span>,\n",
       "    <span style=\"color: #808000; text-decoration-color: #808000\">update_at</span>=<span style=\"color: #800080; text-decoration-color: #800080; font-weight: bold\">datetime</span><span style=\"color: #800080; text-decoration-color: #800080; font-weight: bold\">.datetime</span><span style=\"font-weight: bold\">(</span><span style=\"color: #008080; text-decoration-color: #008080; font-weight: bold\">2023</span>, <span style=\"color: #008080; text-decoration-color: #008080; font-weight: bold\">7</span>, <span style=\"color: #008080; text-decoration-color: #008080; font-weight: bold\">6</span>, <span style=\"color: #008080; text-decoration-color: #008080; font-weight: bold\">16</span>, <span style=\"color: #008080; text-decoration-color: #008080; font-weight: bold\">50</span>, <span style=\"color: #008080; text-decoration-color: #008080; font-weight: bold\">38</span>, <span style=\"color: #008080; text-decoration-color: #008080; font-weight: bold\">115081</span>, <span style=\"color: #808000; text-decoration-color: #808000\">tzinfo</span>=<span style=\"color: #800080; text-decoration-color: #800080\">datetime</span>.timezone.utc<span style=\"font-weight: bold\">)</span>,\n",
       "    <span style=\"color: #808000; text-decoration-color: #808000\">s3uri</span>=<span style=\"color: #008000; text-decoration-color: #008000\">'s3://807388292768-us-east-1-artifacts/versioned-artifacts/deploy/LATEST'</span>,\n",
       "    <span style=\"color: #808000; text-decoration-color: #808000\">sha256</span>=<span style=\"color: #008000; text-decoration-color: #008000\">'fb04dcb6970e4c3d1873de51fd5a50d7bb46b3383113602665c350ec40b5f990'</span>\n",
       "<span style=\"font-weight: bold\">)</span>\n",
       "</pre>\n"
      ],
      "text/plain": [
       "\u001b[1;35mArtifact\u001b[0m\u001b[1m(\u001b[0m\n",
       "    \u001b[33mname\u001b[0m=\u001b[32m'deploy'\u001b[0m,\n",
       "    \u001b[33mversion\u001b[0m=\u001b[32m'LATEST'\u001b[0m,\n",
       "    \u001b[33mupdate_at\u001b[0m=\u001b[1;35mdatetime\u001b[0m\u001b[1;35m.datetime\u001b[0m\u001b[1m(\u001b[0m\u001b[1;36m2023\u001b[0m, \u001b[1;36m7\u001b[0m, \u001b[1;36m6\u001b[0m, \u001b[1;36m16\u001b[0m, \u001b[1;36m50\u001b[0m, \u001b[1;36m38\u001b[0m, \u001b[1;36m115081\u001b[0m, \u001b[33mtzinfo\u001b[0m=\u001b[35mdatetime\u001b[0m.timezone.utc\u001b[1m)\u001b[0m,\n",
       "    \u001b[33ms3uri\u001b[0m=\u001b[32m's3://807388292768-us-east-1-artifacts/versioned-artifacts/deploy/LATEST'\u001b[0m,\n",
       "    \u001b[33msha256\u001b[0m=\u001b[32m'fb04dcb6970e4c3d1873de51fd5a50d7bb46b3383113602665c350ec40b5f990'\u001b[0m\n",
       "\u001b[1m)\u001b[0m\n"
      ]
     },
     "metadata": {},
     "output_type": "display_data"
    },
    {
     "name": "stdout",
     "output_type": "stream",
     "text": [
      "preview on S3: https://console.aws.amazon.com/s3/object/807388292768-us-east-1-artifacts?prefix=versioned-artifacts/deploy/LATEST\n",
      "preview artifact content: b'v2'\n"
     ]
    }
   ],
   "source": [
    "artifact = repo.put_artifact(bsm=bsm, name=name, content=b\"v2\")\n",
    "rprint(artifact)\n",
    "print(f\"preview on S3: {artifact.s3path.console_url}\")\n",
    "print(f\"preview artifact content: {artifact.get_content(bsm=bsm)}\")"
   ]
  },
  {
   "cell_type": "code",
   "execution_count": 8,
   "metadata": {},
   "outputs": [
    {
     "data": {
      "text/html": [
       "<pre style=\"white-space:pre;overflow-x:auto;line-height:normal;font-family:Menlo,'DejaVu Sans Mono',consolas,'Courier New',monospace\"><span style=\"color: #800080; text-decoration-color: #800080; font-weight: bold\">Artifact</span><span style=\"font-weight: bold\">(</span>\n",
       "    <span style=\"color: #808000; text-decoration-color: #808000\">name</span>=<span style=\"color: #008000; text-decoration-color: #008000\">'deploy'</span>,\n",
       "    <span style=\"color: #808000; text-decoration-color: #808000\">version</span>=<span style=\"color: #008000; text-decoration-color: #008000\">'2'</span>,\n",
       "    <span style=\"color: #808000; text-decoration-color: #808000\">update_at</span>=<span style=\"color: #800080; text-decoration-color: #800080; font-weight: bold\">datetime</span><span style=\"color: #800080; text-decoration-color: #800080; font-weight: bold\">.datetime</span><span style=\"font-weight: bold\">(</span><span style=\"color: #008080; text-decoration-color: #008080; font-weight: bold\">2023</span>, <span style=\"color: #008080; text-decoration-color: #008080; font-weight: bold\">7</span>, <span style=\"color: #008080; text-decoration-color: #008080; font-weight: bold\">6</span>, <span style=\"color: #008080; text-decoration-color: #008080; font-weight: bold\">16</span>, <span style=\"color: #008080; text-decoration-color: #008080; font-weight: bold\">50</span>, <span style=\"color: #008080; text-decoration-color: #008080; font-weight: bold\">38</span>, <span style=\"color: #008080; text-decoration-color: #008080; font-weight: bold\">484012</span>, <span style=\"color: #808000; text-decoration-color: #808000\">tzinfo</span>=<span style=\"color: #800080; text-decoration-color: #800080\">datetime</span>.timezone.utc<span style=\"font-weight: bold\">)</span>,\n",
       "    <span style=\"color: #808000; text-decoration-color: #808000\">s3uri</span>=<span style=\"color: #008000; text-decoration-color: #008000\">'s3://807388292768-us-east-1-artifacts/versioned-artifacts/deploy/000002'</span>,\n",
       "    <span style=\"color: #808000; text-decoration-color: #808000\">sha256</span>=<span style=\"color: #008000; text-decoration-color: #008000\">'fb04dcb6970e4c3d1873de51fd5a50d7bb46b3383113602665c350ec40b5f990'</span>\n",
       "<span style=\"font-weight: bold\">)</span>\n",
       "</pre>\n"
      ],
      "text/plain": [
       "\u001b[1;35mArtifact\u001b[0m\u001b[1m(\u001b[0m\n",
       "    \u001b[33mname\u001b[0m=\u001b[32m'deploy'\u001b[0m,\n",
       "    \u001b[33mversion\u001b[0m=\u001b[32m'2'\u001b[0m,\n",
       "    \u001b[33mupdate_at\u001b[0m=\u001b[1;35mdatetime\u001b[0m\u001b[1;35m.datetime\u001b[0m\u001b[1m(\u001b[0m\u001b[1;36m2023\u001b[0m, \u001b[1;36m7\u001b[0m, \u001b[1;36m6\u001b[0m, \u001b[1;36m16\u001b[0m, \u001b[1;36m50\u001b[0m, \u001b[1;36m38\u001b[0m, \u001b[1;36m484012\u001b[0m, \u001b[33mtzinfo\u001b[0m=\u001b[35mdatetime\u001b[0m.timezone.utc\u001b[1m)\u001b[0m,\n",
       "    \u001b[33ms3uri\u001b[0m=\u001b[32m's3://807388292768-us-east-1-artifacts/versioned-artifacts/deploy/000002'\u001b[0m,\n",
       "    \u001b[33msha256\u001b[0m=\u001b[32m'fb04dcb6970e4c3d1873de51fd5a50d7bb46b3383113602665c350ec40b5f990'\u001b[0m\n",
       "\u001b[1m)\u001b[0m\n"
      ]
     },
     "metadata": {},
     "output_type": "display_data"
    },
    {
     "name": "stdout",
     "output_type": "stream",
     "text": [
      "preview on S3: https://console.aws.amazon.com/s3/object/807388292768-us-east-1-artifacts?prefix=versioned-artifacts/deploy/000002\n",
      "preview artifact content: b'v2'\n"
     ]
    }
   ],
   "source": [
    "artifact = repo.publish_artifact_version(bsm=bsm, name=name)\n",
    "rprint(artifact)\n",
    "print(f\"preview on S3: {artifact.s3path.console_url}\")\n",
    "print(f\"preview artifact content: {artifact.get_content(bsm=bsm)}\")"
   ]
  },
  {
   "cell_type": "code",
   "execution_count": 9,
   "metadata": {},
   "outputs": [
    {
     "data": {
      "text/html": [
       "<pre style=\"white-space:pre;overflow-x:auto;line-height:normal;font-family:Menlo,'DejaVu Sans Mono',consolas,'Courier New',monospace\"><span style=\"font-weight: bold\">[</span>\n",
       "    <span style=\"color: #800080; text-decoration-color: #800080; font-weight: bold\">Artifact</span><span style=\"font-weight: bold\">(</span>\n",
       "        <span style=\"color: #808000; text-decoration-color: #808000\">name</span>=<span style=\"color: #008000; text-decoration-color: #008000\">'deploy'</span>,\n",
       "        <span style=\"color: #808000; text-decoration-color: #808000\">version</span>=<span style=\"color: #008000; text-decoration-color: #008000\">'LATEST'</span>,\n",
       "        <span style=\"color: #808000; text-decoration-color: #808000\">update_at</span>=<span style=\"color: #800080; text-decoration-color: #800080; font-weight: bold\">datetime</span><span style=\"color: #800080; text-decoration-color: #800080; font-weight: bold\">.datetime</span><span style=\"font-weight: bold\">(</span><span style=\"color: #008080; text-decoration-color: #008080; font-weight: bold\">2023</span>, <span style=\"color: #008080; text-decoration-color: #008080; font-weight: bold\">7</span>, <span style=\"color: #008080; text-decoration-color: #008080; font-weight: bold\">6</span>, <span style=\"color: #008080; text-decoration-color: #008080; font-weight: bold\">16</span>, <span style=\"color: #008080; text-decoration-color: #008080; font-weight: bold\">50</span>, <span style=\"color: #008080; text-decoration-color: #008080; font-weight: bold\">38</span>, <span style=\"color: #008080; text-decoration-color: #008080; font-weight: bold\">115081</span>, <span style=\"color: #808000; text-decoration-color: #808000\">tzinfo</span>=<span style=\"color: #800080; text-decoration-color: #800080\">datetime</span>.timezone.utc<span style=\"font-weight: bold\">)</span>,\n",
       "        <span style=\"color: #808000; text-decoration-color: #808000\">s3uri</span>=<span style=\"color: #008000; text-decoration-color: #008000\">'s3://807388292768-us-east-1-artifacts/versioned-artifacts/deploy/LATEST'</span>,\n",
       "        <span style=\"color: #808000; text-decoration-color: #808000\">sha256</span>=<span style=\"color: #008000; text-decoration-color: #008000\">'fb04dcb6970e4c3d1873de51fd5a50d7bb46b3383113602665c350ec40b5f990'</span>\n",
       "    <span style=\"font-weight: bold\">)</span>,\n",
       "    <span style=\"color: #800080; text-decoration-color: #800080; font-weight: bold\">Artifact</span><span style=\"font-weight: bold\">(</span>\n",
       "        <span style=\"color: #808000; text-decoration-color: #808000\">name</span>=<span style=\"color: #008000; text-decoration-color: #008000\">'deploy'</span>,\n",
       "        <span style=\"color: #808000; text-decoration-color: #808000\">version</span>=<span style=\"color: #008000; text-decoration-color: #008000\">'2'</span>,\n",
       "        <span style=\"color: #808000; text-decoration-color: #808000\">update_at</span>=<span style=\"color: #800080; text-decoration-color: #800080; font-weight: bold\">datetime</span><span style=\"color: #800080; text-decoration-color: #800080; font-weight: bold\">.datetime</span><span style=\"font-weight: bold\">(</span><span style=\"color: #008080; text-decoration-color: #008080; font-weight: bold\">2023</span>, <span style=\"color: #008080; text-decoration-color: #008080; font-weight: bold\">7</span>, <span style=\"color: #008080; text-decoration-color: #008080; font-weight: bold\">6</span>, <span style=\"color: #008080; text-decoration-color: #008080; font-weight: bold\">16</span>, <span style=\"color: #008080; text-decoration-color: #008080; font-weight: bold\">50</span>, <span style=\"color: #008080; text-decoration-color: #008080; font-weight: bold\">38</span>, <span style=\"color: #008080; text-decoration-color: #008080; font-weight: bold\">484012</span>, <span style=\"color: #808000; text-decoration-color: #808000\">tzinfo</span>=<span style=\"color: #800080; text-decoration-color: #800080\">datetime</span>.timezone.utc<span style=\"font-weight: bold\">)</span>,\n",
       "        <span style=\"color: #808000; text-decoration-color: #808000\">s3uri</span>=<span style=\"color: #008000; text-decoration-color: #008000\">'s3://807388292768-us-east-1-artifacts/versioned-artifacts/deploy/000002'</span>,\n",
       "        <span style=\"color: #808000; text-decoration-color: #808000\">sha256</span>=<span style=\"color: #008000; text-decoration-color: #008000\">'fb04dcb6970e4c3d1873de51fd5a50d7bb46b3383113602665c350ec40b5f990'</span>\n",
       "    <span style=\"font-weight: bold\">)</span>,\n",
       "    <span style=\"color: #800080; text-decoration-color: #800080; font-weight: bold\">Artifact</span><span style=\"font-weight: bold\">(</span>\n",
       "        <span style=\"color: #808000; text-decoration-color: #808000\">name</span>=<span style=\"color: #008000; text-decoration-color: #008000\">'deploy'</span>,\n",
       "        <span style=\"color: #808000; text-decoration-color: #808000\">version</span>=<span style=\"color: #008000; text-decoration-color: #008000\">'1'</span>,\n",
       "        <span style=\"color: #808000; text-decoration-color: #808000\">update_at</span>=<span style=\"color: #800080; text-decoration-color: #800080; font-weight: bold\">datetime</span><span style=\"color: #800080; text-decoration-color: #800080; font-weight: bold\">.datetime</span><span style=\"font-weight: bold\">(</span><span style=\"color: #008080; text-decoration-color: #008080; font-weight: bold\">2023</span>, <span style=\"color: #008080; text-decoration-color: #008080; font-weight: bold\">7</span>, <span style=\"color: #008080; text-decoration-color: #008080; font-weight: bold\">6</span>, <span style=\"color: #008080; text-decoration-color: #008080; font-weight: bold\">16</span>, <span style=\"color: #008080; text-decoration-color: #008080; font-weight: bold\">50</span>, <span style=\"color: #008080; text-decoration-color: #008080; font-weight: bold\">37</span>, <span style=\"color: #008080; text-decoration-color: #008080; font-weight: bold\">576841</span>, <span style=\"color: #808000; text-decoration-color: #808000\">tzinfo</span>=<span style=\"color: #800080; text-decoration-color: #800080\">datetime</span>.timezone.utc<span style=\"font-weight: bold\">)</span>,\n",
       "        <span style=\"color: #808000; text-decoration-color: #808000\">s3uri</span>=<span style=\"color: #008000; text-decoration-color: #008000\">'s3://807388292768-us-east-1-artifacts/versioned-artifacts/deploy/000001'</span>,\n",
       "        <span style=\"color: #808000; text-decoration-color: #808000\">sha256</span>=<span style=\"color: #008000; text-decoration-color: #008000\">'3bfc269594ef649228e9a74bab00f042efc91d5acc6fbee31a382e80d42388fe'</span>\n",
       "    <span style=\"font-weight: bold\">)</span>\n",
       "<span style=\"font-weight: bold\">]</span>\n",
       "</pre>\n"
      ],
      "text/plain": [
       "\u001b[1m[\u001b[0m\n",
       "    \u001b[1;35mArtifact\u001b[0m\u001b[1m(\u001b[0m\n",
       "        \u001b[33mname\u001b[0m=\u001b[32m'deploy'\u001b[0m,\n",
       "        \u001b[33mversion\u001b[0m=\u001b[32m'LATEST'\u001b[0m,\n",
       "        \u001b[33mupdate_at\u001b[0m=\u001b[1;35mdatetime\u001b[0m\u001b[1;35m.datetime\u001b[0m\u001b[1m(\u001b[0m\u001b[1;36m2023\u001b[0m, \u001b[1;36m7\u001b[0m, \u001b[1;36m6\u001b[0m, \u001b[1;36m16\u001b[0m, \u001b[1;36m50\u001b[0m, \u001b[1;36m38\u001b[0m, \u001b[1;36m115081\u001b[0m, \u001b[33mtzinfo\u001b[0m=\u001b[35mdatetime\u001b[0m.timezone.utc\u001b[1m)\u001b[0m,\n",
       "        \u001b[33ms3uri\u001b[0m=\u001b[32m's3://807388292768-us-east-1-artifacts/versioned-artifacts/deploy/LATEST'\u001b[0m,\n",
       "        \u001b[33msha256\u001b[0m=\u001b[32m'fb04dcb6970e4c3d1873de51fd5a50d7bb46b3383113602665c350ec40b5f990'\u001b[0m\n",
       "    \u001b[1m)\u001b[0m,\n",
       "    \u001b[1;35mArtifact\u001b[0m\u001b[1m(\u001b[0m\n",
       "        \u001b[33mname\u001b[0m=\u001b[32m'deploy'\u001b[0m,\n",
       "        \u001b[33mversion\u001b[0m=\u001b[32m'2'\u001b[0m,\n",
       "        \u001b[33mupdate_at\u001b[0m=\u001b[1;35mdatetime\u001b[0m\u001b[1;35m.datetime\u001b[0m\u001b[1m(\u001b[0m\u001b[1;36m2023\u001b[0m, \u001b[1;36m7\u001b[0m, \u001b[1;36m6\u001b[0m, \u001b[1;36m16\u001b[0m, \u001b[1;36m50\u001b[0m, \u001b[1;36m38\u001b[0m, \u001b[1;36m484012\u001b[0m, \u001b[33mtzinfo\u001b[0m=\u001b[35mdatetime\u001b[0m.timezone.utc\u001b[1m)\u001b[0m,\n",
       "        \u001b[33ms3uri\u001b[0m=\u001b[32m's3://807388292768-us-east-1-artifacts/versioned-artifacts/deploy/000002'\u001b[0m,\n",
       "        \u001b[33msha256\u001b[0m=\u001b[32m'fb04dcb6970e4c3d1873de51fd5a50d7bb46b3383113602665c350ec40b5f990'\u001b[0m\n",
       "    \u001b[1m)\u001b[0m,\n",
       "    \u001b[1;35mArtifact\u001b[0m\u001b[1m(\u001b[0m\n",
       "        \u001b[33mname\u001b[0m=\u001b[32m'deploy'\u001b[0m,\n",
       "        \u001b[33mversion\u001b[0m=\u001b[32m'1'\u001b[0m,\n",
       "        \u001b[33mupdate_at\u001b[0m=\u001b[1;35mdatetime\u001b[0m\u001b[1;35m.datetime\u001b[0m\u001b[1m(\u001b[0m\u001b[1;36m2023\u001b[0m, \u001b[1;36m7\u001b[0m, \u001b[1;36m6\u001b[0m, \u001b[1;36m16\u001b[0m, \u001b[1;36m50\u001b[0m, \u001b[1;36m37\u001b[0m, \u001b[1;36m576841\u001b[0m, \u001b[33mtzinfo\u001b[0m=\u001b[35mdatetime\u001b[0m.timezone.utc\u001b[1m)\u001b[0m,\n",
       "        \u001b[33ms3uri\u001b[0m=\u001b[32m's3://807388292768-us-east-1-artifacts/versioned-artifacts/deploy/000001'\u001b[0m,\n",
       "        \u001b[33msha256\u001b[0m=\u001b[32m'3bfc269594ef649228e9a74bab00f042efc91d5acc6fbee31a382e80d42388fe'\u001b[0m\n",
       "    \u001b[1m)\u001b[0m\n",
       "\u001b[1m]\u001b[0m\n"
      ]
     },
     "metadata": {},
     "output_type": "display_data"
    }
   ],
   "source": [
    "artifact_list = repo.list_artifact_versions(bsm=bsm, name=name)\n",
    "rprint(artifact_list)"
   ]
  },
  {
   "cell_type": "markdown",
   "metadata": {},
   "source": [
    "## Create an Alias"
   ]
  },
  {
   "cell_type": "code",
   "execution_count": 10,
   "metadata": {},
   "outputs": [
    {
     "data": {
      "text/html": [
       "<pre style=\"white-space:pre;overflow-x:auto;line-height:normal;font-family:Menlo,'DejaVu Sans Mono',consolas,'Courier New',monospace\"><span style=\"color: #800080; text-decoration-color: #800080; font-weight: bold\">Alias</span><span style=\"font-weight: bold\">(</span>\n",
       "    <span style=\"color: #808000; text-decoration-color: #808000\">name</span>=<span style=\"color: #008000; text-decoration-color: #008000\">'deploy'</span>,\n",
       "    <span style=\"color: #808000; text-decoration-color: #808000\">alias</span>=<span style=\"color: #008000; text-decoration-color: #008000\">'LIVE'</span>,\n",
       "    <span style=\"color: #808000; text-decoration-color: #808000\">version</span>=<span style=\"color: #008000; text-decoration-color: #008000\">'LATEST'</span>,\n",
       "    <span style=\"color: #808000; text-decoration-color: #808000\">secondary_version</span>=<span style=\"color: #800080; text-decoration-color: #800080; font-style: italic\">None</span>,\n",
       "    <span style=\"color: #808000; text-decoration-color: #808000\">secondary_version_weight</span>=<span style=\"color: #800080; text-decoration-color: #800080; font-style: italic\">None</span>,\n",
       "    <span style=\"color: #808000; text-decoration-color: #808000\">version_s3uri</span>=<span style=\"color: #008000; text-decoration-color: #008000\">'s3://807388292768-us-east-1-artifacts/versioned-artifacts/deploy/LATEST'</span>,\n",
       "    <span style=\"color: #808000; text-decoration-color: #808000\">secondary_version_s3uri</span>=<span style=\"color: #800080; text-decoration-color: #800080; font-style: italic\">None</span>\n",
       "<span style=\"font-weight: bold\">)</span>\n",
       "</pre>\n"
      ],
      "text/plain": [
       "\u001b[1;35mAlias\u001b[0m\u001b[1m(\u001b[0m\n",
       "    \u001b[33mname\u001b[0m=\u001b[32m'deploy'\u001b[0m,\n",
       "    \u001b[33malias\u001b[0m=\u001b[32m'LIVE'\u001b[0m,\n",
       "    \u001b[33mversion\u001b[0m=\u001b[32m'LATEST'\u001b[0m,\n",
       "    \u001b[33msecondary_version\u001b[0m=\u001b[3;35mNone\u001b[0m,\n",
       "    \u001b[33msecondary_version_weight\u001b[0m=\u001b[3;35mNone\u001b[0m,\n",
       "    \u001b[33mversion_s3uri\u001b[0m=\u001b[32m's3://807388292768-us-east-1-artifacts/versioned-artifacts/deploy/LATEST'\u001b[0m,\n",
       "    \u001b[33msecondary_version_s3uri\u001b[0m=\u001b[3;35mNone\u001b[0m\n",
       "\u001b[1m)\u001b[0m\n"
      ]
     },
     "metadata": {},
     "output_type": "display_data"
    }
   ],
   "source": [
    "alias = \"LIVE\"\n",
    "\n",
    "ali = repo.put_alias(bsm=bsm, name=name, alias=alias)\n",
    "rprint(ali)"
   ]
  },
  {
   "cell_type": "markdown",
   "metadata": {},
   "source": [
    "## Update an Alias for Canary Deployment"
   ]
  },
  {
   "cell_type": "code",
   "execution_count": 11,
   "metadata": {},
   "outputs": [
    {
     "data": {
      "text/html": [
       "<pre style=\"white-space:pre;overflow-x:auto;line-height:normal;font-family:Menlo,'DejaVu Sans Mono',consolas,'Courier New',monospace\"><span style=\"color: #800080; text-decoration-color: #800080; font-weight: bold\">Alias</span><span style=\"font-weight: bold\">(</span>\n",
       "    <span style=\"color: #808000; text-decoration-color: #808000\">name</span>=<span style=\"color: #008000; text-decoration-color: #008000\">'deploy'</span>,\n",
       "    <span style=\"color: #808000; text-decoration-color: #808000\">alias</span>=<span style=\"color: #008000; text-decoration-color: #008000\">'LIVE'</span>,\n",
       "    <span style=\"color: #808000; text-decoration-color: #808000\">version</span>=<span style=\"color: #008000; text-decoration-color: #008000\">'1'</span>,\n",
       "    <span style=\"color: #808000; text-decoration-color: #808000\">secondary_version</span>=<span style=\"color: #008000; text-decoration-color: #008000\">'2'</span>,\n",
       "    <span style=\"color: #808000; text-decoration-color: #808000\">secondary_version_weight</span>=<span style=\"color: #008080; text-decoration-color: #008080; font-weight: bold\">10</span>,\n",
       "    <span style=\"color: #808000; text-decoration-color: #808000\">version_s3uri</span>=<span style=\"color: #008000; text-decoration-color: #008000\">'s3://807388292768-us-east-1-artifacts/versioned-artifacts/deploy/000001'</span>,\n",
       "    <span style=\"color: #808000; text-decoration-color: #808000\">secondary_version_s3uri</span>=<span style=\"color: #008000; text-decoration-color: #008000\">'s3://807388292768-us-east-1-artifacts/versioned-artifacts/deploy/000002'</span>\n",
       "<span style=\"font-weight: bold\">)</span>\n",
       "</pre>\n"
      ],
      "text/plain": [
       "\u001b[1;35mAlias\u001b[0m\u001b[1m(\u001b[0m\n",
       "    \u001b[33mname\u001b[0m=\u001b[32m'deploy'\u001b[0m,\n",
       "    \u001b[33malias\u001b[0m=\u001b[32m'LIVE'\u001b[0m,\n",
       "    \u001b[33mversion\u001b[0m=\u001b[32m'1'\u001b[0m,\n",
       "    \u001b[33msecondary_version\u001b[0m=\u001b[32m'2'\u001b[0m,\n",
       "    \u001b[33msecondary_version_weight\u001b[0m=\u001b[1;36m10\u001b[0m,\n",
       "    \u001b[33mversion_s3uri\u001b[0m=\u001b[32m's3://807388292768-us-east-1-artifacts/versioned-artifacts/deploy/000001'\u001b[0m,\n",
       "    \u001b[33msecondary_version_s3uri\u001b[0m=\u001b[32m's3://807388292768-us-east-1-artifacts/versioned-artifacts/deploy/000002'\u001b[0m\n",
       "\u001b[1m)\u001b[0m\n"
      ]
     },
     "metadata": {},
     "output_type": "display_data"
    },
    {
     "data": {
      "text/html": [
       "<pre style=\"white-space:pre;overflow-x:auto;line-height:normal;font-family:Menlo,'DejaVu Sans Mono',consolas,'Courier New',monospace\"><span style=\"color: #0000ff; text-decoration-color: #0000ff; text-decoration: underline\">https://console.aws.amazon.com/s3/object/807388292768-us-east-1-artifacts?prefix=versioned-artifacts/deploy/000001</span>\n",
       "</pre>\n"
      ],
      "text/plain": [
       "\u001b[4;94mhttps://console.aws.amazon.com/s3/object/807388292768-us-east-1-artifacts?\u001b[0m\u001b[4;94mprefix\u001b[0m\u001b[4;94m=\u001b[0m\u001b[4;94mversioned\u001b[0m\u001b[4;94m-artifacts/deploy/000001\u001b[0m\n"
      ]
     },
     "metadata": {},
     "output_type": "display_data"
    }
   ],
   "source": [
    "ali = repo.put_alias(bsm=bsm, name=name, alias=alias, version=1, secondary_version=2, secondary_version_weight=10)\n",
    "rprint(ali)\n",
    "rprint(ali.s3path_version.console_url)"
   ]
  },
  {
   "cell_type": "code",
   "execution_count": 12,
   "metadata": {},
   "outputs": [
    {
     "name": "stdout",
     "output_type": "stream",
     "text": [
      "preview primary version on S3: https://console.aws.amazon.com/s3/object/807388292768-us-east-1-artifacts?prefix=versioned-artifacts/deploy/000001\n",
      "preview primary artifact version content: b'v1'\n",
      "preview secondary version on S3: https://console.aws.amazon.com/s3/object/807388292768-us-east-1-artifacts?prefix=versioned-artifacts/deploy/000002\n",
      "preview secondary artifact version content: b'v2'\n"
     ]
    }
   ],
   "source": [
    "ali = repo.put_alias(bsm=bsm, name=name, alias=alias, version=1, secondary_version=2, secondary_version_weight=50)\n",
    "print(f\"preview primary version on S3: {ali.s3path_version.console_url}\")\n",
    "print(f\"preview primary artifact version content: {ali.get_version_content(bsm=bsm)}\")\n",
    "print(f\"preview secondary version on S3: {ali.s3path_secondary_version.console_url}\")\n",
    "print(f\"preview secondary artifact version content: {ali.get_secondary_version_content(bsm=bsm)}\")"
   ]
  },
  {
   "cell_type": "code",
   "execution_count": 13,
   "metadata": {},
   "outputs": [
    {
     "data": {
      "text/html": [
       "<pre style=\"white-space:pre;overflow-x:auto;line-height:normal;font-family:Menlo,'DejaVu Sans Mono',consolas,'Courier New',monospace\"><span style=\"color: #800080; text-decoration-color: #800080; font-weight: bold\">Alias</span><span style=\"font-weight: bold\">(</span>\n",
       "    <span style=\"color: #808000; text-decoration-color: #808000\">name</span>=<span style=\"color: #008000; text-decoration-color: #008000\">'deploy'</span>,\n",
       "    <span style=\"color: #808000; text-decoration-color: #808000\">alias</span>=<span style=\"color: #008000; text-decoration-color: #008000\">'LIVE'</span>,\n",
       "    <span style=\"color: #808000; text-decoration-color: #808000\">version</span>=<span style=\"color: #008000; text-decoration-color: #008000\">'1'</span>,\n",
       "    <span style=\"color: #808000; text-decoration-color: #808000\">secondary_version</span>=<span style=\"color: #008000; text-decoration-color: #008000\">'2'</span>,\n",
       "    <span style=\"color: #808000; text-decoration-color: #808000\">secondary_version_weight</span>=<span style=\"color: #008080; text-decoration-color: #008080; font-weight: bold\">90</span>,\n",
       "    <span style=\"color: #808000; text-decoration-color: #808000\">version_s3uri</span>=<span style=\"color: #008000; text-decoration-color: #008000\">'s3://807388292768-us-east-1-artifacts/versioned-artifacts/deploy/000001'</span>,\n",
       "    <span style=\"color: #808000; text-decoration-color: #808000\">secondary_version_s3uri</span>=<span style=\"color: #008000; text-decoration-color: #008000\">'s3://807388292768-us-east-1-artifacts/versioned-artifacts/deploy/000002'</span>\n",
       "<span style=\"font-weight: bold\">)</span>\n",
       "</pre>\n"
      ],
      "text/plain": [
       "\u001b[1;35mAlias\u001b[0m\u001b[1m(\u001b[0m\n",
       "    \u001b[33mname\u001b[0m=\u001b[32m'deploy'\u001b[0m,\n",
       "    \u001b[33malias\u001b[0m=\u001b[32m'LIVE'\u001b[0m,\n",
       "    \u001b[33mversion\u001b[0m=\u001b[32m'1'\u001b[0m,\n",
       "    \u001b[33msecondary_version\u001b[0m=\u001b[32m'2'\u001b[0m,\n",
       "    \u001b[33msecondary_version_weight\u001b[0m=\u001b[1;36m90\u001b[0m,\n",
       "    \u001b[33mversion_s3uri\u001b[0m=\u001b[32m's3://807388292768-us-east-1-artifacts/versioned-artifacts/deploy/000001'\u001b[0m,\n",
       "    \u001b[33msecondary_version_s3uri\u001b[0m=\u001b[32m's3://807388292768-us-east-1-artifacts/versioned-artifacts/deploy/000002'\u001b[0m\n",
       "\u001b[1m)\u001b[0m\n"
      ]
     },
     "metadata": {},
     "output_type": "display_data"
    }
   ],
   "source": [
    "ali = repo.put_alias(bsm=bsm, name=name, alias=alias, version=1, secondary_version=2, secondary_version_weight=90)\n",
    "rprint(ali)"
   ]
  },
  {
   "cell_type": "code",
   "execution_count": 14,
   "metadata": {},
   "outputs": [
    {
     "data": {
      "text/html": [
       "<pre style=\"white-space:pre;overflow-x:auto;line-height:normal;font-family:Menlo,'DejaVu Sans Mono',consolas,'Courier New',monospace\"><span style=\"color: #800080; text-decoration-color: #800080; font-weight: bold\">Alias</span><span style=\"font-weight: bold\">(</span>\n",
       "    <span style=\"color: #808000; text-decoration-color: #808000\">name</span>=<span style=\"color: #008000; text-decoration-color: #008000\">'deploy'</span>,\n",
       "    <span style=\"color: #808000; text-decoration-color: #808000\">alias</span>=<span style=\"color: #008000; text-decoration-color: #008000\">'LIVE'</span>,\n",
       "    <span style=\"color: #808000; text-decoration-color: #808000\">version</span>=<span style=\"color: #008000; text-decoration-color: #008000\">'2'</span>,\n",
       "    <span style=\"color: #808000; text-decoration-color: #808000\">secondary_version</span>=<span style=\"color: #800080; text-decoration-color: #800080; font-style: italic\">None</span>,\n",
       "    <span style=\"color: #808000; text-decoration-color: #808000\">secondary_version_weight</span>=<span style=\"color: #800080; text-decoration-color: #800080; font-style: italic\">None</span>,\n",
       "    <span style=\"color: #808000; text-decoration-color: #808000\">version_s3uri</span>=<span style=\"color: #008000; text-decoration-color: #008000\">'s3://807388292768-us-east-1-artifacts/versioned-artifacts/deploy/000002'</span>,\n",
       "    <span style=\"color: #808000; text-decoration-color: #808000\">secondary_version_s3uri</span>=<span style=\"color: #800080; text-decoration-color: #800080; font-style: italic\">None</span>\n",
       "<span style=\"font-weight: bold\">)</span>\n",
       "</pre>\n"
      ],
      "text/plain": [
       "\u001b[1;35mAlias\u001b[0m\u001b[1m(\u001b[0m\n",
       "    \u001b[33mname\u001b[0m=\u001b[32m'deploy'\u001b[0m,\n",
       "    \u001b[33malias\u001b[0m=\u001b[32m'LIVE'\u001b[0m,\n",
       "    \u001b[33mversion\u001b[0m=\u001b[32m'2'\u001b[0m,\n",
       "    \u001b[33msecondary_version\u001b[0m=\u001b[3;35mNone\u001b[0m,\n",
       "    \u001b[33msecondary_version_weight\u001b[0m=\u001b[3;35mNone\u001b[0m,\n",
       "    \u001b[33mversion_s3uri\u001b[0m=\u001b[32m's3://807388292768-us-east-1-artifacts/versioned-artifacts/deploy/000002'\u001b[0m,\n",
       "    \u001b[33msecondary_version_s3uri\u001b[0m=\u001b[3;35mNone\u001b[0m\n",
       "\u001b[1m)\u001b[0m\n"
      ]
     },
     "metadata": {},
     "output_type": "display_data"
    }
   ],
   "source": [
    "ali = repo.put_alias(bsm=bsm, name=name, alias=alias, version=2)\n",
    "rprint(ali)"
   ]
  },
  {
   "cell_type": "code",
   "execution_count": 15,
   "metadata": {},
   "outputs": [
    {
     "data": {
      "text/html": [
       "<pre style=\"white-space:pre;overflow-x:auto;line-height:normal;font-family:Menlo,'DejaVu Sans Mono',consolas,'Courier New',monospace\"><span style=\"font-weight: bold\">[</span>\n",
       "    <span style=\"color: #800080; text-decoration-color: #800080; font-weight: bold\">Alias</span><span style=\"font-weight: bold\">(</span>\n",
       "        <span style=\"color: #808000; text-decoration-color: #808000\">name</span>=<span style=\"color: #008000; text-decoration-color: #008000\">'deploy'</span>,\n",
       "        <span style=\"color: #808000; text-decoration-color: #808000\">alias</span>=<span style=\"color: #008000; text-decoration-color: #008000\">'LIVE'</span>,\n",
       "        <span style=\"color: #808000; text-decoration-color: #808000\">version</span>=<span style=\"color: #008000; text-decoration-color: #008000\">'2'</span>,\n",
       "        <span style=\"color: #808000; text-decoration-color: #808000\">secondary_version</span>=<span style=\"color: #800080; text-decoration-color: #800080; font-style: italic\">None</span>,\n",
       "        <span style=\"color: #808000; text-decoration-color: #808000\">secondary_version_weight</span>=<span style=\"color: #800080; text-decoration-color: #800080; font-style: italic\">None</span>,\n",
       "        <span style=\"color: #808000; text-decoration-color: #808000\">version_s3uri</span>=<span style=\"color: #008000; text-decoration-color: #008000\">'s3://807388292768-us-east-1-artifacts/versioned-artifacts/deploy/000002'</span>,\n",
       "        <span style=\"color: #808000; text-decoration-color: #808000\">secondary_version_s3uri</span>=<span style=\"color: #800080; text-decoration-color: #800080; font-style: italic\">None</span>\n",
       "    <span style=\"font-weight: bold\">)</span>\n",
       "<span style=\"font-weight: bold\">]</span>\n",
       "</pre>\n"
      ],
      "text/plain": [
       "\u001b[1m[\u001b[0m\n",
       "    \u001b[1;35mAlias\u001b[0m\u001b[1m(\u001b[0m\n",
       "        \u001b[33mname\u001b[0m=\u001b[32m'deploy'\u001b[0m,\n",
       "        \u001b[33malias\u001b[0m=\u001b[32m'LIVE'\u001b[0m,\n",
       "        \u001b[33mversion\u001b[0m=\u001b[32m'2'\u001b[0m,\n",
       "        \u001b[33msecondary_version\u001b[0m=\u001b[3;35mNone\u001b[0m,\n",
       "        \u001b[33msecondary_version_weight\u001b[0m=\u001b[3;35mNone\u001b[0m,\n",
       "        \u001b[33mversion_s3uri\u001b[0m=\u001b[32m's3://807388292768-us-east-1-artifacts/versioned-artifacts/deploy/000002'\u001b[0m,\n",
       "        \u001b[33msecondary_version_s3uri\u001b[0m=\u001b[3;35mNone\u001b[0m\n",
       "    \u001b[1m)\u001b[0m\n",
       "\u001b[1m]\u001b[0m\n"
      ]
     },
     "metadata": {},
     "output_type": "display_data"
    }
   ],
   "source": [
    "ali_list = repo.list_aliases(bsm=bsm, name=name)\n",
    "rprint(ali_list)"
   ]
  },
  {
   "cell_type": "code",
   "execution_count": null,
   "metadata": {},
   "outputs": [],
   "source": []
  }
 ],
 "metadata": {
  "kernelspec": {
   "display_name": "Python 3 (ipykernel)",
   "language": "python",
   "name": "python3"
  },
  "language_info": {
   "codemirror_mode": {
    "name": "ipython",
    "version": 3
   },
   "file_extension": ".py",
   "mimetype": "text/x-python",
   "name": "python",
   "nbconvert_exporter": "python",
   "pygments_lexer": "ipython3",
   "version": "3.8.11"
  }
 },
 "nbformat": 4,
 "nbformat_minor": 4
}
